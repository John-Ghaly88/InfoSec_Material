{
  "cells": [
    {
      "cell_type": "code",
      "execution_count": null,
      "metadata": {
        "id": "IAAThwuGSgKo"
      },
      "outputs": [],
      "source": [
        "#method generateIC takes a list of cosets as an inputs and returns the IC for these cosets\n",
        "def generateIC(coset):\n",
        "    cosetIC = 0\n",
        "    for c in coset:\n",
        "        c = c.lower()\n",
        "        count = [0]*26\n",
        "        n = 0\n",
        "        for i in range(0, len(c)):\n",
        "            val = ord(c[i]) - ord('a')\n",
        "            if(val >= 0 and val <= 25):\n",
        "                count[val] = count[val] + 1\n",
        "                n += 1\n",
        "        total = 0.0\n",
        "        for i in range(0, len(count)):\n",
        "            total += count[i] * (count[i]-1)\n",
        "        total = total/(n*(n-1))\n",
        "        cosetIC += total\n",
        "    cosetIC = cosetIC/len(coset)\n",
        "    return cosetIC\n"
      ]
    },
    {
      "cell_type": "code",
      "execution_count": null,
      "metadata": {
        "id": "G9fH3bYuE064"
      },
      "outputs": [],
      "source": [
        "# 10 marks for the correct output 3 10 7\n",
        "# if the output is wrong, then the maximum grade is 8 marks\n",
        "\n",
        "def crack(cipher):\n",
        "    # Define a variable to store the maximum IC found, and a variable to store the length of the key with maximum IC (+1)\n",
        "    maxIC = 0.0\n",
        "    maxKey = 0\n",
        "\n",
        "    # Iterate through possible key lengths from 1 to 10 (+1)\n",
        "    for i in range(1, 11):   #-1 mark if this iteration is missing\n",
        "        # Split the ciphertext into cosets using the current key length (+4)\n",
        "        splitted_words = ['' for _ in range(i)]  #-1 mark if this splitting is missing\n",
        "        for j in range(len(cipher)):\n",
        "            splitted_words[j % i] += cipher[j]\n",
        "\n",
        "        # Calculate the IC for the current set of cosets (+1)\n",
        "        x = generateIC(splitted_words)    #-1 mark if this function call is missing\n",
        "\n",
        "        # Update maxIC and maxKey if the current IC is higher (+2)\n",
        "        if x > maxIC:  #-1 mark if this comparison is missing\n",
        "            maxIC = x\n",
        "            maxKey = i\n",
        "\n",
        "    # Return the most probable key length (+1)\n",
        "    return maxKey\n"
      ]
    },
    {
      "cell_type": "code",
      "execution_count": null,
      "metadata": {
        "colab": {
          "base_uri": "https://localhost:8080/"
        },
        "id": "lh46KXdcE065",
        "outputId": "dcac1697-fe6f-47d4-a52d-ced41b6538bb"
      },
      "outputs": [
        {
          "name": "stdout",
          "output_type": "stream",
          "text": [
            "3\n",
            "10\n",
            "7\n"
          ]
        }
      ],
      "source": [
        "s0 = \"RSTCSJLSLRSLFELGWLFIISIKRMGL\"\n",
        "s1 = \"OICPWZXZEVLGCLNFSYPGALPXWZJTEGALPCSIIWDHOIECCBFWPAHOPCGALPCCBROASNWTYHOIDBIHVPSCSIDEVLSYPGDLZDSLXSTBNWOTTMICPBAPJEVLCLCSUSEQCUHZQFBPPDOUHESSFLLGSUSCPGWINETVVESSZXLEIZUFZMVYNLBXYZESALPXRPWLRFLIHTHOXSPANPZCWMCZCJPPTQMALPXOISFEHOIZYZFXSTBNCZFQHRYZHKSTDWNRZCSALPXPLGLFGLXSPMJLLYULXSTBNWESSFTFDVALPSITEYCOJIQZFDECOOUHHSWSIDZALQLJGLIESSTEDEVLGCLNFSYPGDIDPSNIYTIZFPNOBWPEVLTPZDSIHSCHVPNFHDJPBVYRSHVXSTBRXSPMJEYNVHRRPHOIHZFSHLCSALPZBLWHSCKS\"\n",
        "s2 = \"VVVXSQWPSNJMUMJOKKLGFQAVEXAHWRVTMFXVVRKAJTVMFLOPHYWJDSTXKAGFVVTPHKYEPPJOKPSWACJVSIGGVOLXLVMQPVCMGOGMFLAKENVRMIUAKTKVHIXCFJZRAHWFHLIUMHCIRFWGFOETIUNEQVJWEHOSJWVQFYWKYMPGQHWISOPKHYFYV\"\n",
        "\n",
        "# Calculate key lengths for test cases\n",
        "key_length_s0 = crack(s0)\n",
        "key_length_s1 = crack(s1)\n",
        "key_length_s2 = crack(s2)\n",
        "\n",
        "# Print results\n",
        "print(key_length_s0)  # Output: 3\n",
        "print(key_length_s1)  # Output: 10\n",
        "print(key_length_s2)  # Output: 7\n"
      ]
    }
  ],
  "metadata": {
    "colab": {
      "provenance": []
    },
    "kernelspec": {
      "display_name": "Python 3",
      "name": "python3"
    },
    "language_info": {
      "name": "python"
    }
  },
  "nbformat": 4,
  "nbformat_minor": 0
}